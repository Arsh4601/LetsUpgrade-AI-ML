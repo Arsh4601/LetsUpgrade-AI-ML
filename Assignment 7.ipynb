{
 "cells": [
  {
   "cell_type": "markdown",
   "metadata": {},
   "source": [
    "# Q1)"
   ]
  },
  {
   "cell_type": "code",
   "execution_count": 15,
   "metadata": {},
   "outputs": [
    {
     "name": "stdout",
     "output_type": "stream",
     "text": [
      "Enter your email id: arshansari@google.com\n",
      "\n",
      " Company name is:  google\n"
     ]
    }
   ],
   "source": [
    "while True:\n",
    "    \n",
    "    eid=input(\"Enter your email id: \")\n",
    "    \n",
    "    try:\n",
    "        \n",
    "        eid=int(eid)\n",
    "        print(\"Invalid input\")\n",
    "        \n",
    "    \n",
    "    except:\n",
    "        \n",
    "        try:\n",
    "            \n",
    "            eid=float(eid)\n",
    "            print(\"Invalid input\")\n",
    "        \n",
    "        except:\n",
    "            \n",
    "            atrate=eid.find(\"@\")\n",
    "            if(atrate==-1):\n",
    "                \n",
    "                print(\"Invalid input\")\n",
    "                \n",
    "            else:\n",
    "                \n",
    "                dot=eid.find(\".\")\n",
    "                \n",
    "                if(dot==-1):\n",
    "                    \n",
    "                    print(\"Invalid input\")\n",
    "                \n",
    "                else:\n",
    "                    \n",
    "                    break\n",
    "    \n",
    "\n",
    "print(\"\\n Company name is: \",eid[atrate+1:dot])   \n",
    "\n",
    "\n",
    "\n",
    "\n"
   ]
  },
  {
   "cell_type": "markdown",
   "metadata": {},
   "source": [
    "# Q2)"
   ]
  },
  {
   "cell_type": "code",
   "execution_count": null,
   "metadata": {},
   "outputs": [],
   "source": []
  },
  {
   "cell_type": "code",
   "execution_count": 16,
   "metadata": {},
   "outputs": [
    {
     "name": "stdout",
     "output_type": "stream",
     "text": [
      "Enter: a,w,e,r,t,y,b,c,x,z\n",
      "a b c e r t w x y z "
     ]
    }
   ],
   "source": [
    "items=[x for x in input(\"Enter: \").split(',')]\n",
    "\n",
    "items.sort()\n",
    "\n",
    "for i in items:\n",
    "\n",
    "  print(i,end=' ')"
   ]
  },
  {
   "cell_type": "markdown",
   "metadata": {},
   "source": [
    "# Q3)\n"
   ]
  },
  {
   "cell_type": "raw",
   "metadata": {},
   "source": []
  },
  {
   "cell_type": "raw",
   "metadata": {},
   "source": [
    "1) Sets is a data structure in python eqvivalent to mathaamatical sets.\n",
    "\n",
    "2) It is a heterogenous data structure i.e. the set elements can either be of datatype int, float, string , boolean etc.\n",
    "\n",
    "3) Using sets we can perform various set functions like union,difference,intersection etc.\n",
    "\n",
    "4)A set can be inilized as e.g. a={1,2,3,4,5}\n",
    "\n",
    "5)An empty can be defined as e.g. a=set()\n",
    "\n",
    "6) Python has various set functions like union(),difference(),add() etc to perform \n"
   ]
  },
  {
   "cell_type": "markdown",
   "metadata": {},
   "source": [
    "# Set Functions\n"
   ]
  },
  {
   "cell_type": "code",
   "execution_count": null,
   "metadata": {},
   "outputs": [],
   "source": []
  },
  {
   "cell_type": "code",
   "execution_count": 48,
   "metadata": {},
   "outputs": [
    {
     "data": {
      "text/plain": [
       "{1, 2, 3, 4, 5, 6}"
      ]
     },
     "execution_count": 48,
     "metadata": {},
     "output_type": "execute_result"
    }
   ],
   "source": [
    "l1={1,2,3,4,5,6}\n",
    "l1"
   ]
  },
  {
   "cell_type": "code",
   "execution_count": 51,
   "metadata": {},
   "outputs": [
    {
     "data": {
      "text/plain": [
       "{1, 2, 3, 4, 5, 6, 7, 8, 9, 10}"
      ]
     },
     "execution_count": 51,
     "metadata": {},
     "output_type": "execute_result"
    }
   ],
   "source": [
    "#union()- It returns the union of  the two sets\n",
    "\n",
    "#Consider another set l2={6,7,8,9,10}\n",
    "\n",
    "l1={1,2,3,4,5,6}\n",
    "l2={6,7,8,9,10}\n",
    "\n",
    "l1.union(l2)"
   ]
  },
  {
   "cell_type": "code",
   "execution_count": 52,
   "metadata": {},
   "outputs": [
    {
     "data": {
      "text/plain": [
       "{1, 2, 3, 4, 5}"
      ]
     },
     "execution_count": 52,
     "metadata": {},
     "output_type": "execute_result"
    }
   ],
   "source": [
    "#difference()- It returns the difference of  the two sets\n",
    "\n",
    "l1={1,2,3,4,5,6}\n",
    "l2={6,7,8,9,10}\n",
    "\n",
    "l1.difference(l2)\n"
   ]
  },
  {
   "cell_type": "code",
   "execution_count": 55,
   "metadata": {},
   "outputs": [
    {
     "name": "stdout",
     "output_type": "stream",
     "text": [
      "{1, 2, 3, 4, 5, 6}\n"
     ]
    }
   ],
   "source": [
    "#difference()- It returns the difference of  the two sets\n",
    "\n",
    "l3=l1.copy()\n",
    "\n",
    "print(l3)"
   ]
  },
  {
   "cell_type": "code",
   "execution_count": 62,
   "metadata": {},
   "outputs": [
    {
     "name": "stdout",
     "output_type": "stream",
     "text": [
      "set()\n"
     ]
    }
   ],
   "source": [
    "#clear()- It removes all the elements of the set and return an empty set\n",
    "\n",
    "l1={1,2,3,4,5,6}\n",
    "\n",
    "l1.clear()\n",
    "\n",
    "print(l1)#set() means there is an empty set \n",
    "\n"
   ]
  },
  {
   "cell_type": "raw",
   "metadata": {},
   "source": [
    " There are many more functions related to sets.You may try it yourself"
   ]
  },
  {
   "cell_type": "markdown",
   "metadata": {},
   "source": [
    "# Q4)"
   ]
  },
  {
   "cell_type": "code",
   "execution_count": null,
   "metadata": {},
   "outputs": [],
   "source": []
  },
  {
   "cell_type": "code",
   "execution_count": 26,
   "metadata": {},
   "outputs": [
    {
     "name": "stdout",
     "output_type": "stream",
     "text": [
      "\n",
      "\n",
      "Enter no. of nos. you want enter: 5\n",
      "\n",
      "\n",
      "Enter no.: 1\n",
      "\n",
      "\n",
      "Enter no.: 2\n",
      "\n",
      "\n",
      "Enter no.: 3\n",
      "\n",
      "\n",
      "Enter no.: 5\n",
      "\n",
      "\n",
      "Enter no.: 6\n",
      "\n",
      "the missing numbers are:  4 "
     ]
    }
   ],
   "source": [
    "item=set()\n",
    "while True:\n",
    "    \n",
    "    print(\"\\n\")\n",
    "    num=input(\"Enter no. of nos. you want enter: \")\n",
    "    \n",
    "    try:\n",
    "        \n",
    "        num=int(num)\n",
    "        break\n",
    "        \n",
    "    except:\n",
    "        \n",
    "        try:\n",
    "            \n",
    "            num=float(num)\n",
    "            print(\"Invalid Index\")\n",
    "        \n",
    "        except:\n",
    "            \n",
    "            print(\"Invalid Index\")\n",
    "            \n",
    "\n",
    "for i in range(1,num+1):\n",
    "    \n",
    "    while True:\n",
    "        \n",
    "        print(\"\\n\")\n",
    "        num_add=input(\"Enter no.: \")\n",
    "        num_add=int(num_add)\n",
    "        item.add(num_add)\n",
    "    \n",
    "        try:\n",
    "            \n",
    "            num_add=int(num_add)\n",
    "            item.add(num_add)\n",
    "            break\n",
    "        \n",
    "        except:\n",
    "            \n",
    "            try:\n",
    "                \n",
    "                num=float(num_add)\n",
    "                item.add(num_add)\n",
    "                break\n",
    "        \n",
    "            except:\n",
    "                \n",
    "                print(\"Invalid Index\")\n",
    "            \n",
    "\n",
    "\n",
    "\n",
    "check=set()\n",
    "\n",
    "\n",
    "\n",
    "\n",
    "for i in range(1,num_add+1):\n",
    "    \n",
    "    check.add(i)\n",
    "\n",
    "\n",
    "\n",
    "missing=check.difference(item)\n",
    "\n",
    "print(\"\\nthe missing numbers are: \",end=' ')\n",
    "\n",
    "for i in missing:\n",
    "    \n",
    "    print(i,end=' ')        \n",
    "            \n",
    "\n",
    "            \n",
    "    \n",
    "    \n",
    "    "
   ]
  },
  {
   "cell_type": "markdown",
   "metadata": {},
   "source": [
    "#  Q5)\n"
   ]
  },
  {
   "cell_type": "code",
   "execution_count": null,
   "metadata": {},
   "outputs": [],
   "source": []
  },
  {
   "cell_type": "code",
   "execution_count": 63,
   "metadata": {},
   "outputs": [
    {
     "name": "stdout",
     "output_type": "stream",
     "text": [
      "\n",
      "Enter the number: 1\n",
      "Do you want to add more numbers (y/n):  y\n",
      "\n",
      "Enter the number: 2\n",
      "Do you want to add more numbers (y/n):  y\n",
      "\n",
      "Enter the number: 3\n",
      "Do you want to add more numbers (y/n):  y\n",
      "\n",
      "Enter the number: 4\n",
      "Do you want to add more numbers (y/n):  y\n",
      "\n",
      "Enter the number: 2\n",
      "Do you want to add more numbers (y/n):  n\n",
      "\n",
      "Original list is:  1 2 3 4 2 \n",
      "New list is:  1 3 4 2 "
     ]
    }
   ],
   "source": [
    "l=[]\n",
    "while True:\n",
    "    \n",
    "    num_item=input(\"\\nEnter the number: \")\n",
    "    \n",
    "    try:\n",
    "        \n",
    "        num_item=int(num_item)\n",
    "        \n",
    "        l.append(num_item)\n",
    "        \n",
    "        ans=input(\"Do you want to add more numbers (y/n):  \")\n",
    "        \n",
    "        if(ans==\"n\" or ans==\"N\"):\n",
    "            \n",
    "            break\n",
    "    \n",
    "    except:\n",
    "        \n",
    "        try:\n",
    "            \n",
    "            num_item=float(num_item)\n",
    "        \n",
    "            l.append(num_item)\n",
    "        \n",
    "            ans=input(\"Do you want to add more numbers (y/n):  \")\n",
    "        \n",
    "            if(ans==\"n\" or ans==\"N\"):\n",
    "                \n",
    "                break\n",
    "        \n",
    "        except:\n",
    "            \n",
    "            print(\"Invalid entry\")\n",
    "\n",
    "\n",
    "temp=l\n",
    "\n",
    "print(\"\\nOriginal list is: \",end=' ')\n",
    "\n",
    "for i in l:\n",
    "    \n",
    "    print(i,end=' ')\n",
    "\n",
    "for i in l:\n",
    "    \n",
    "    ctr=0\n",
    "    \n",
    "    for j in temp:\n",
    "        \n",
    "        \n",
    "        \n",
    "        if(i==j):\n",
    "            \n",
    "            ctr=ctr+1            \n",
    "            \n",
    "            if(ctr>=2):\n",
    "                \n",
    "                l.remove(j) \n",
    "                \n",
    "\n",
    "\n",
    "\n",
    "\n",
    "print(\"\\nNew list is: \",end=' ')\n",
    "\n",
    "for i in l:\n",
    "    \n",
    "    print(i,end=' ')\n",
    "                \n",
    "            \n",
    "                \n",
    "            \n",
    "       \n",
    "    \n",
    "        \n",
    "        "
   ]
  }
 ],
 "metadata": {
  "kernelspec": {
   "display_name": "Python 3",
   "language": "python",
   "name": "python3"
  },
  "language_info": {
   "codemirror_mode": {
    "name": "ipython",
    "version": 3
   },
   "file_extension": ".py",
   "mimetype": "text/x-python",
   "name": "python",
   "nbconvert_exporter": "python",
   "pygments_lexer": "ipython3",
   "version": "3.7.6"
  }
 },
 "nbformat": 4,
 "nbformat_minor": 4
}
