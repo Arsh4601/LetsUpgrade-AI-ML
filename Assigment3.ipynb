{
 "cells": [
  {
   "cell_type": "markdown",
   "metadata": {},
   "source": [
    "# Q1)"
   ]
  },
  {
   "cell_type": "code",
   "execution_count": 4,
   "metadata": {},
   "outputs": [
    {
     "name": "stdout",
     "output_type": "stream",
     "text": [
      "For 1st Complex number\n",
      "\n",
      "\n",
      "Please enter real part: 65.5\n",
      "\n",
      "\n",
      "Please enter complex part(only co-efficent): 77\n",
      "\n",
      "For 2nd Complex number\n",
      "\n",
      "\n",
      "Please enter real part: 35\n",
      "\n",
      "\n",
      "Please enter complex part(only co-efficent): 23\n",
      "\n",
      "1st complex no:  65.5 + 77 i\n",
      "2nd complex no:  35 + 23 i\n",
      "\n",
      "Sum of complex numbers are:  100.5 + 100 i\n"
     ]
    }
   ],
   "source": [
    "print(\"For 1st Complex number\")\n",
    "\n",
    "while True:\n",
    "    \n",
    "    print(\"\\n\")\n",
    "    r1=input(\"Please enter real part: \")\n",
    "    \n",
    "    try:\n",
    "        \n",
    "        r1=int(r1)\n",
    "        break\n",
    "        \n",
    "    except:\n",
    "        \n",
    "        try:\n",
    "            \n",
    "            r1=float(r1)\n",
    "            break\n",
    "        \n",
    "        except:\n",
    "            \n",
    "            print(\"Wrong input please renter\")\n",
    "\n",
    "while True:\n",
    "    \n",
    "    print(\"\\n\")\n",
    "    c1=input(\"Please enter complex part(only co-efficent): \")\n",
    "    \n",
    "    try:\n",
    "        \n",
    "        c1=int(c1)\n",
    "        break\n",
    "        \n",
    "    except:\n",
    "        \n",
    "        try:\n",
    "            \n",
    "            c1=float(c1)\n",
    "            break\n",
    "        \n",
    "        except:\n",
    "            \n",
    "            print(\"Wrong input please renter\")\n",
    "\n",
    "\n",
    "print(\"\\nFor 2nd Complex number\")\n",
    "\n",
    "while True:\n",
    "    \n",
    "    print(\"\\n\")\n",
    "    r2=input(\"Please enter real part: \")\n",
    "    \n",
    "    try:\n",
    "        \n",
    "        r2=int(r2)\n",
    "        break\n",
    "        \n",
    "    except:\n",
    "        \n",
    "        try:\n",
    "            \n",
    "            r2=float(r2)\n",
    "            break\n",
    "        \n",
    "        except:\n",
    "            \n",
    "            print(\"Wrong input please renter\")\n",
    "\n",
    "while True:\n",
    "    \n",
    "    print(\"\\n\")\n",
    "    c2=input(\"Please enter complex part(only co-efficent): \")\n",
    "    \n",
    "    try:\n",
    "        \n",
    "        c2=int(c2)\n",
    "        break\n",
    "        \n",
    "    except:\n",
    "        \n",
    "        try:\n",
    "            \n",
    "            c2=float(c2)\n",
    "            break\n",
    "        \n",
    "        except:\n",
    "            \n",
    "            print(\"Wrong input please renter\")\n",
    "\n",
    "\n",
    "print(\"\\n1st complex no: \",r1,\"+\",c1,\"i\")\n",
    "print(\"2nd complex no: \",r2,\"+\",c2,\"i\")\n",
    "print(\"\\nSum of complex numbers are: \",r1+r2,\"+\",c1+c2,\"i\")            \n",
    "        \n",
    "\n"
   ]
  },
  {
   "cell_type": "markdown",
   "metadata": {},
   "source": []
  },
  {
   "cell_type": "markdown",
   "metadata": {},
   "source": [
    "# Q2)\n"
   ]
  },
  {
   "cell_type": "code",
   "execution_count": 5,
   "metadata": {},
   "outputs": [
    {
     "name": "stdout",
     "output_type": "stream",
     "text": [
      "\n",
      "\n",
      "Please enter a number: 625\n",
      "\n",
      "Fourth root of  625 is 5.0\n"
     ]
    }
   ],
   "source": [
    "import math as m\n",
    "while True:\n",
    "    \n",
    "    \n",
    "    print(\"\\n\")\n",
    "    num=input(\"Please enter a number: \")\n",
    "    \n",
    "    try:\n",
    "        \n",
    "        num=int(num)\n",
    "        temp=num\n",
    "        break\n",
    "        \n",
    "    except:\n",
    "        \n",
    "        try:\n",
    "            \n",
    "            num=float(num)\n",
    "            temp=num\n",
    "            break\n",
    "        \n",
    "        except:\n",
    "            \n",
    "            print(\"Wrong input please renter\")\n",
    "\n",
    "\n",
    "            \n",
    "num=m.sqrt(num)\n",
    "num=m.sqrt(num)\n",
    "\n",
    "print(\"\\nFourth root of \",temp,\"is\",num)\n",
    "\n"
   ]
  },
  {
   "cell_type": "code",
   "execution_count": null,
   "metadata": {},
   "outputs": [],
   "source": []
  },
  {
   "cell_type": "markdown",
   "metadata": {},
   "source": [
    "# Q3)"
   ]
  },
  {
   "cell_type": "markdown",
   "metadata": {},
   "source": [
    "# while True:\n",
    "    \n",
    "    print(\"\\n\")\n",
    "    num1=input(\"Please enter  first number: \")\n",
    "    \n",
    "    try:\n",
    "        \n",
    "        num1=int(num1)\n",
    "        break\n",
    "        \n",
    "    except:\n",
    "        \n",
    "        try:\n",
    "            \n",
    "            num1=float(num1)\n",
    "            break\n",
    "        \n",
    "        except:\n",
    "            \n",
    "            print(\"Wrong input please renter\")\n",
    "\n",
    "while True:\n",
    "    \n",
    "    print(\"\\n\")\n",
    "    num2=input(\"Please enter  second number: \")\n",
    "    \n",
    "    try:\n",
    "        \n",
    "        num2=int(num2)\n",
    "        break\n",
    "        \n",
    "    except:\n",
    "        \n",
    "        try:\n",
    "            \n",
    "            num2=float(num2)\n",
    "            break\n",
    "        \n",
    "        except:\n",
    "            \n",
    "            print(\"Wrong input please renter\")\n",
    "\n",
    "\n",
    "print(\"\\nBefore swapping\")\n",
    "\n",
    "print(\"\\n number1= \",num1)\n",
    "print(\"\\n number2= \",num2)\n",
    "\n",
    "temp=num1\n",
    "num1=num2\n",
    "num2=temp\n",
    "\n",
    "print(\"\\nAfter swapping\")\n",
    "\n",
    "print(\"\\n number1= \",num1)\n",
    "print(\"\\n number2= \",num2)"
   ]
  },
  {
   "cell_type": "code",
   "execution_count": null,
   "metadata": {},
   "outputs": [],
   "source": []
  },
  {
   "cell_type": "markdown",
   "metadata": {},
   "source": [
    "# Q4)"
   ]
  },
  {
   "cell_type": "code",
   "execution_count": 9,
   "metadata": {},
   "outputs": [
    {
     "name": "stdout",
     "output_type": "stream",
     "text": [
      "\n",
      "\n",
      "Please enter  first number: 26.667\n",
      "\n",
      "\n",
      "Please enter  second  number: 61\n",
      "\n",
      "Before swapping\n",
      "\n",
      " number1=  26.667\n",
      "\n",
      " number2=  61\n",
      "\n",
      "After swapping\n",
      "\n",
      " number1=  61.0\n",
      "\n",
      " number2=  26.667\n"
     ]
    }
   ],
   "source": [
    "while True:\n",
    "    \n",
    "    print(\"\\n\")\n",
    "    num1=input(\"Please enter  first number: \")\n",
    "    \n",
    "    try:\n",
    "        \n",
    "        num1=int(num1)\n",
    "        break\n",
    "        \n",
    "    except:\n",
    "        \n",
    "        try:\n",
    "            \n",
    "            num1=float(num1)\n",
    "            break\n",
    "        \n",
    "        except:\n",
    "            \n",
    "            print(\"Wrong input please renter\")\n",
    "\n",
    "while True:\n",
    "    \n",
    "    print(\"\\n\")\n",
    "    num2=input(\"Please enter  second  number: \")\n",
    "    \n",
    "    try:\n",
    "        \n",
    "        num2=int(num2)\n",
    "        break\n",
    "        \n",
    "    except:\n",
    "        \n",
    "        try:\n",
    "            \n",
    "            num2=float(num2)\n",
    "            break\n",
    "        \n",
    "        except:\n",
    "            \n",
    "            print(\"Wrong input please renter\")\n",
    "\n",
    "\n",
    "print(\"\\nBefore swapping\")\n",
    "\n",
    "print(\"\\n number1= \",num1)\n",
    "print(\"\\n number2= \",num2)\n",
    "\n",
    "num1=num1+num2\n",
    "num2=num1-num2\n",
    "num1=num1-num2\n",
    "\n",
    "print(\"\\nAfter swapping\")\n",
    "\n",
    "print(\"\\n number1= \",num1)\n",
    "print(\"\\n number2= \",num2)"
   ]
  },
  {
   "cell_type": "code",
   "execution_count": null,
   "metadata": {},
   "outputs": [],
   "source": []
  },
  {
   "cell_type": "markdown",
   "metadata": {},
   "source": [
    "# Q5)"
   ]
  },
  {
   "cell_type": "code",
   "execution_count": 13,
   "metadata": {},
   "outputs": [
    {
     "name": "stdout",
     "output_type": "stream",
     "text": [
      "\n",
      "\n",
      "Please enter  temperature in Fahrrenheit: 61\n",
      "Teperature in celcius is =  16.11\n",
      "Teperature in celcius is =  289.26\n"
     ]
    }
   ],
   "source": [
    "while True:\n",
    "    \n",
    "    print(\"\\n\")\n",
    "    f=input(\"Please enter  temperature in Fahrrenheit: \")\n",
    "    \n",
    "    try:\n",
    "        \n",
    "        f=int(f)\n",
    "        break\n",
    "        \n",
    "    except:\n",
    "        \n",
    "        try:\n",
    "            \n",
    "            f=float(f)\n",
    "            break\n",
    "        \n",
    "        except:\n",
    "            \n",
    "            print(\"Wrong input please renter\")\n",
    "\n",
    "c=(f-32)*0.5556\n",
    "c=round(c,2)\n",
    "print(\"Teperature in celcius is = \",c)\n",
    "k=c+273.15\n",
    "k=round(k,2)\n",
    "print(\"Teperature in celcius is = \",k)\n"
   ]
  },
  {
   "cell_type": "code",
   "execution_count": null,
   "metadata": {},
   "outputs": [],
   "source": []
  },
  {
   "cell_type": "markdown",
   "metadata": {},
   "source": [
    "# Q6)"
   ]
  },
  {
   "cell_type": "code",
   "execution_count": 18,
   "metadata": {},
   "outputs": [
    {
     "name": "stdout",
     "output_type": "stream",
     "text": [
      "\n",
      "Type of a =  <class 'int'>\n",
      "\n",
      "Type of b =  <class 'float'>\n",
      "\n",
      "Type of c =  <class 'str'>\n",
      "\n",
      "Type of d =  <class 'bool'>\n"
     ]
    }
   ],
   "source": [
    "a=10\n",
    "b=100.667\n",
    "c=\"Hello World\"\n",
    "d=True\n",
    "\n",
    "print(\"\\nType of a = \",type(a))\n",
    "print(\"\\nType of b = \",type(b))\n",
    "print(\"\\nType of c = \",type(c))\n",
    "print(\"\\nType of d = \",type(d))\n",
    "\n"
   ]
  },
  {
   "cell_type": "code",
   "execution_count": null,
   "metadata": {},
   "outputs": [],
   "source": []
  },
  {
   "cell_type": "markdown",
   "metadata": {},
   "source": [
    "# Q7)"
   ]
  },
  {
   "cell_type": "markdown",
   "metadata": {},
   "source": [
    "1)Type github on the search bar\n",
    "\n",
    "2)Click on the github log in link\n",
    "\n",
    "3)Click on create account button\n",
    "\n",
    "4)Fill in the needed details\n",
    "\n",
    "5)Your Github profile is made\n",
    "\n",
    "6)Now click on the '+' sign in the on the top right corner of your page\n",
    "\n",
    "7)Click on new repositry\n",
    "\n",
    "8)Name the repository as LetsUpgrade AI/ML\n",
    "\n",
    "9)Mark the repository as public\n",
    "\n",
    "10)Add all the assigments in day wise manner\n",
    "\n",
    "11)Copy the URL of the repository and paste it on the Assigment submit link\n",
    "\n"
   ]
  }
 ],
 "metadata": {
  "kernelspec": {
   "display_name": "Python 3",
   "language": "python",
   "name": "python3"
  },
  "language_info": {
   "codemirror_mode": {
    "name": "ipython",
    "version": 3
   },
   "file_extension": ".py",
   "mimetype": "text/x-python",
   "name": "python",
   "nbconvert_exporter": "python",
   "pygments_lexer": "ipython3",
   "version": "3.7.6"
  }
 },
 "nbformat": 4,
 "nbformat_minor": 4
}
